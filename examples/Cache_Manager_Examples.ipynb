{
 "cells": [
  {
   "cell_type": "markdown",
   "metadata": {},
   "source": [
    "# About This Notebook\n",
    "\n",
    "This notebook contains examples of three different ways that the CacheManager can be used. What follows is an example of using the `yaci.dict_storage.DictStorage` storage implementation with the `yaci.CacheManager` as a:\n",
    "\n",
    "* A decorator\n",
    "* A context manager\n",
    "* An argument to a class (This is the most flexible and gives the user the most control over caching)"
   ]
  },
  {
   "cell_type": "code",
   "execution_count": 1,
   "metadata": {},
   "outputs": [],
   "source": [
    "from yaci import cache_manager\n",
    "from yaci import contexts\n",
    "from yaci import dict_storage"
   ]
  },
  {
   "cell_type": "code",
   "execution_count": 2,
   "metadata": {},
   "outputs": [],
   "source": [
    "storage = dict_storage.DictStorage()\n",
    "cm = cache_manager.CacheManager(storage=storage)"
   ]
  },
  {
   "cell_type": "markdown",
   "metadata": {},
   "source": [
    "## Decorating Functions\n",
    "\n",
    "The `decorator` implementaiton of the cache manager is niave, but the code in `yaci.contexts` can be used as a reference implementation for more advanced usages should they be needed. This pattern may be required if you are working with a third-party function that you cannot modify."
   ]
  },
  {
   "cell_type": "code",
   "execution_count": 3,
   "metadata": {},
   "outputs": [],
   "source": [
    "@contexts.cache()\n",
    "def double(x):\n",
    "    print(\"Executing 'double' with arguments {}\".format(x))\n",
    "    return x * 2"
   ]
  },
  {
   "cell_type": "markdown",
   "metadata": {},
   "source": [
    "Even though we call `double` four times, when the function is invoked with an argument that it has already seen we do not actually invoke the function, but use the value stored in the cache. This is made clear by the fact that we only see the line starting with \"Executing 'double'...\" two times."
   ]
  },
  {
   "cell_type": "code",
   "execution_count": 4,
   "metadata": {},
   "outputs": [
    {
     "name": "stdout",
     "output_type": "stream",
     "text": [
      "Executing 'double' with arguments 3\n",
      "Executing 'double' with arguments 4\n"
     ]
    },
    {
     "data": {
      "text/plain": [
       "[6, 6, 8, 8]"
      ]
     },
     "execution_count": 4,
     "metadata": {},
     "output_type": "execute_result"
    }
   ],
   "source": [
    "args = [3, 3, 4, 4]\n",
    "[double(x) for x in args]"
   ]
  },
  {
   "cell_type": "markdown",
   "metadata": {},
   "source": [
    "## Context Manager\n",
    "\n",
    "I have to be honest this is one of those examples that I thought might be useful, but couldn't really figure out how I might use it in the real world. This example exposes the magic of the `yaci.CacheManger` class, which is the `default_get` funciton. Here you need to be aware of how you define the key. Different stroage implementations will have different rules about what values can be used as \"keys\" so if you decide to use a storage implementation other than the `DictStorage` implementation you'll need to make sure that the value that use as a key is acceptable to the storage implementation."
   ]
  },
  {
   "cell_type": "code",
   "execution_count": 5,
   "metadata": {},
   "outputs": [],
   "source": [
    "def tripple(x):\n",
    "    print(\"Executing 'tripple' with arguments {}\".format(x))\n",
    "    return x**3"
   ]
  },
  {
   "cell_type": "code",
   "execution_count": 6,
   "metadata": {},
   "outputs": [
    {
     "name": "stdout",
     "output_type": "stream",
     "text": [
      "Executing 'tripple' with arguments 3\n",
      "Executing 'tripple' with arguments 4\n",
      "[27, 27, 64, 64]\n"
     ]
    }
   ],
   "source": [
    "results = list()\n",
    "with contexts.CacheContext() as cache:\n",
    "    results = [cache.default_get((tripple, x), tripple, x) for x in args]\n",
    "print(results)"
   ]
  },
  {
   "cell_type": "markdown",
   "metadata": {},
   "source": [
    "## Argument to Class or Function\n",
    "\n",
    "Below is an example of an instance where you want to implement caching via composition, by passing a CacheManger as an argument to a class or function. This pattern provides the most flexibility form an implementation standpoint.\n",
    "\n",
    "### Using the CacheManager with Functions"
   ]
  },
  {
   "cell_type": "code",
   "execution_count": 7,
   "metadata": {},
   "outputs": [],
   "source": [
    "def run_expensive_function(function, arg, cache=None ):\n",
    "    cache = cache if cache is not None else cache_manager.CacheManager(storage=dict_storage.NoopDictStorage())\n",
    "    result = cache.default_get((function, arg), function, arg)\n",
    "    return result\n",
    "\n",
    "def some_expensive_function(x):\n",
    "    print(\"Running Expensive Function with argument {}\".format(x))\n",
    "    return x\n"
   ]
  },
  {
   "cell_type": "markdown",
   "metadata": {},
   "source": [
    "In the code below we do not speify a cache manager, and we can see that `some_expensive_function` is invoked on each iteration."
   ]
  },
  {
   "cell_type": "code",
   "execution_count": 8,
   "metadata": {},
   "outputs": [
    {
     "name": "stdout",
     "output_type": "stream",
     "text": [
      "Running Expensive Function with argument 2\n",
      "Running Expensive Function with argument 3\n",
      "Running Expensive Function with argument 1\n",
      "Running Expensive Function with argument 3\n",
      "Running Expensive Function with argument 2\n",
      "Running Expensive Function with argument 1\n",
      "[2, 3, 1, 3, 2, 1]\n"
     ]
    }
   ],
   "source": [
    "queue = [1, 2, 3,1, 3, 2]\n",
    "f_results = list()\n",
    "for i in range(len(queue)):\n",
    "    f_result = run_expensive_function(some_expensive_function, queue.pop())\n",
    "    f_results.append(f_result)\n",
    "print(f_results)"
   ]
  },
  {
   "cell_type": "markdown",
   "metadata": {},
   "source": [
    "In the code below we **do** specify a cache manger and we note that the `some_expensive_function` is only invoked when it encounters new arguments."
   ]
  },
  {
   "cell_type": "code",
   "execution_count": 9,
   "metadata": {},
   "outputs": [
    {
     "name": "stdout",
     "output_type": "stream",
     "text": [
      "Running Expensive Function with argument 2\n",
      "Running Expensive Function with argument 3\n",
      "Running Expensive Function with argument 1\n",
      "[2, 3, 1, 3, 2, 1]\n"
     ]
    }
   ],
   "source": [
    "func_cache = cache_manager.CacheManager(storage=dict_storage.DictStorage())\n",
    "queue2 = [1, 2, 3,1, 3, 2]\n",
    "f_results2 = list()\n",
    "for i in range(len(queue2)):\n",
    "    f_result = run_expensive_function(some_expensive_function, queue2.pop(), cache=func_cache)\n",
    "    f_results2.append(f_result)\n",
    "print(f_results2)"
   ]
  },
  {
   "cell_type": "markdown",
   "metadata": {},
   "source": [
    "### Using the CacheManager with a Class\n",
    "\n",
    "In this example, we write a client for some cool API that we that we want to use, and use the cache manager cache calls to the API."
   ]
  },
  {
   "cell_type": "code",
   "execution_count": 10,
   "metadata": {},
   "outputs": [],
   "source": [
    "import cool_api\n",
    "\n",
    "class SomeApiClient(object):\n",
    "    def __init__(self, name, cache=None):\n",
    "        self.name = name\n",
    "        self.cache = cache if cache is not None else cache_manager.CacheManager(dict_storage.NoopDictStorage())\n",
    "    \n",
    "    def get(self, *args):\n",
    "        result = self.cache.default_get((cool_api.get, args), cool_api.get, *args)\n",
    "        return result"
   ]
  },
  {
   "cell_type": "code",
   "execution_count": 11,
   "metadata": {},
   "outputs": [
    {
     "name": "stdout",
     "output_type": "stream",
     "text": [
      "In cool_api with args ('foo',)\n",
      "('foo',)\n",
      "('foo',)\n"
     ]
    }
   ],
   "source": [
    "cm = cache_manager.CacheManager(dict_storage.DictStorage())\n",
    "\n",
    "client = SomeApiClient('c1', cache=cm)\n",
    "\n",
    "print(client.get('foo'))\n",
    "print(client.get('foo'))\n"
   ]
  },
  {
   "cell_type": "markdown",
   "metadata": {},
   "source": [
    "Maybe we know that some state changed so we want to clear the cache."
   ]
  },
  {
   "cell_type": "code",
   "execution_count": 12,
   "metadata": {},
   "outputs": [],
   "source": [
    "client.cache.clear()"
   ]
  },
  {
   "cell_type": "code",
   "execution_count": 13,
   "metadata": {},
   "outputs": [
    {
     "name": "stdout",
     "output_type": "stream",
     "text": [
      "In cool_api with args ('foo',)\n",
      "('foo',)\n",
      "('foo',)\n"
     ]
    }
   ],
   "source": [
    "print(client.get('foo'))\n",
    "print(client.get('foo'))"
   ]
  },
  {
   "cell_type": "markdown",
   "metadata": {},
   "source": [
    "# Final Words\n",
    "\n",
    "You should use the examples here as a starting point for situations where you think that you might want to cache results. **EVERY EXAMPLE HERE IS A REFERENCE IMPLEMENTATION** and should not be used in production code without some thought about security concerns and the actual persistance required for any application."
   ]
  },
  {
   "cell_type": "code",
   "execution_count": null,
   "metadata": {},
   "outputs": [],
   "source": []
  }
 ],
 "metadata": {
  "kernelspec": {
   "display_name": "Python 3",
   "language": "python",
   "name": "python3"
  },
  "language_info": {
   "codemirror_mode": {
    "name": "ipython",
    "version": 3
   },
   "file_extension": ".py",
   "mimetype": "text/x-python",
   "name": "python",
   "nbconvert_exporter": "python",
   "pygments_lexer": "ipython3",
   "version": "3.7.1"
  }
 },
 "nbformat": 4,
 "nbformat_minor": 2
}
